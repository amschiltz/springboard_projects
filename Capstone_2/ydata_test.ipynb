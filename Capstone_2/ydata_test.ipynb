{
 "cells": [
  {
   "cell_type": "code",
   "execution_count": 1,
   "id": "065c13b2",
   "metadata": {},
   "outputs": [
    {
     "data": {
      "text/html": [
       "\n",
       "            <div>\n",
       "                <ins><a href=\"https://ydata.ai/register\">Upgrade to ydata-sdk</a></ins>\n",
       "                <p>\n",
       "                    Improve your data and profiling with ydata-sdk, featuring data quality scoring, redundancy detection, outlier identification, text validation, and synthetic data generation.\n",
       "                </p>\n",
       "            </div>\n",
       "            "
      ],
      "text/plain": [
       "<IPython.core.display.HTML object>"
      ]
     },
     "metadata": {},
     "output_type": "display_data"
    }
   ],
   "source": [
    "import pandas as pd\n",
    "from ydata_profiling import ProfileReport\n",
    "import os, webbrowser\n",
    "from datetime import datetime\n",
    "\n",
    "# -------------------------------\n",
    "# Helper function: export + open profiling report\n",
    "# -------------------------------\n",
    "def show_profile_in_browser(profile, prefix=\"profile\"):\n",
    "    \"\"\"Save a ydata-profiling report to HTML and open in browser.\"\"\"\n",
    "    filename = f\"{prefix}_{datetime.now().strftime('%Y%m%d_%H%M%S')}.html\"\n",
    "    profile.to_file(filename)\n",
    "    abs_path = os.path.abspath(filename)\n",
    "    webbrowser.open(f\"file://{abs_path}\")\n",
    "    return abs_path\n",
    "\n",
    "\n",
    "# Create a tiny test DataFrame\n",
    "df = pd.DataFrame({\n",
    "    \"age\": [25, 30, 45, 35, 40, 50],\n",
    "    \"height\": [160, 175, 180, 165, 170, 185],\n",
    "    \"weight\": [55, 70, 85, 68, 72, 90],\n",
    "    \"city\": [\"Denver\", \"Denver\", \"Chicago\", \"Chicago\", \"NYC\", \"NYC\"]\n",
    "})\n",
    "\n",
    "# Generate the profile report\n",
    "profile = ProfileReport(df, title=\"Test Profiling Report\", explorative=True)\n",
    "\n",
    "\n"
   ]
  },
  {
   "cell_type": "code",
   "execution_count": 2,
   "id": "bfe0e404",
   "metadata": {},
   "outputs": [
    {
     "data": {
      "application/vnd.jupyter.widget-view+json": {
       "model_id": "c22e247ab876411f87d6dfeb82507c99",
       "version_major": 2,
       "version_minor": 0
      },
      "text/plain": [
       "Summarize dataset:   0%|          | 0/5 [00:00<?, ?it/s]"
      ]
     },
     "metadata": {},
     "output_type": "display_data"
    },
    {
     "name": "stderr",
     "output_type": "stream",
     "text": [
      "100%|██████████| 4/4 [00:00<00:00, 3084.05it/s]\n"
     ]
    },
    {
     "data": {
      "application/vnd.jupyter.widget-view+json": {
       "model_id": "9f1ad9360c08471c88430e74dff53364",
       "version_major": 2,
       "version_minor": 0
      },
      "text/plain": [
       "Generate report structure:   0%|          | 0/1 [00:00<?, ?it/s]"
      ]
     },
     "metadata": {},
     "output_type": "display_data"
    },
    {
     "data": {
      "application/vnd.jupyter.widget-view+json": {
       "model_id": "2318d957de8b4bf88ebba0e004a0c6b1",
       "version_major": 2,
       "version_minor": 0
      },
      "text/plain": [
       "Render HTML:   0%|          | 0/1 [00:00<?, ?it/s]"
      ]
     },
     "metadata": {},
     "output_type": "display_data"
    },
    {
     "data": {
      "application/vnd.jupyter.widget-view+json": {
       "model_id": "b2d5d659f16c4a689f70d2dd81a027f0",
       "version_major": 2,
       "version_minor": 0
      },
      "text/plain": [
       "Export report to file:   0%|          | 0/1 [00:00<?, ?it/s]"
      ]
     },
     "metadata": {},
     "output_type": "display_data"
    }
   ],
   "source": [
    "# profile.to_notebook_iframe()  \n",
    "profile.to_file(\"test_report.html\")"
   ]
  }
 ],
 "metadata": {
  "kernelspec": {
   "display_name": ".venv (3.11.9)",
   "language": "python",
   "name": "python3"
  },
  "language_info": {
   "codemirror_mode": {
    "name": "ipython",
    "version": 3
   },
   "file_extension": ".py",
   "mimetype": "text/x-python",
   "name": "python",
   "nbconvert_exporter": "python",
   "pygments_lexer": "ipython3",
   "version": "3.11.9"
  }
 },
 "nbformat": 4,
 "nbformat_minor": 5
}
