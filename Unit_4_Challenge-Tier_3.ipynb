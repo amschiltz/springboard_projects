{
 "cells": [
  {
   "cell_type": "markdown",
   "metadata": {
    "colab_type": "text",
    "id": "Tia3MP1SJpgj"
   },
   "source": [
    "# Springboard Data Science Career Track Unit 4 Challenge - Tier 3 Complete\n",
    "\n",
    "## Objectives\n",
    "Hey! Great job getting through those challenging DataCamp courses. You're learning a lot in a short span of time. \n",
    "\n",
    "In this notebook, you're going to apply the skills you've been learning, bridging the gap between the controlled environment of DataCamp and the *slightly* messier work that data scientists do with actual datasets!\n",
    "\n",
    "Here’s the mystery we’re going to solve: ***which boroughs of London have seen the greatest increase in housing prices, on average, over the last two decades?***\n",
    "\n",
    "\n",
    "A borough is just a fancy word for district. You may be familiar with the five boroughs of New York… well, there are 32 boroughs within Greater London [(here's some info for the curious)](https://en.wikipedia.org/wiki/London_boroughs). Some of them are more desirable areas to live in, and the data will reflect that with a greater rise in housing prices.\n",
    "\n",
    "***This is the Tier 3 notebook, which means it's not filled in at all: we'll just give you the skeleton of a project, the brief and the data. It's up to you to play around with it and see what you can find out! Good luck! If you struggle, feel free to look at easier tiers for help; but try to dip in and out of them, as the more independent work you do, the better it is for your learning!***\n",
    "\n",
    "This challenge will make use of only what you learned in the following DataCamp courses: \n",
    "- Prework courses (Introduction to Python for Data Science, Intermediate Python for Data Science)\n",
    "- Data Types for Data Science\n",
    "- Python Data Science Toolbox (Part One) \n",
    "- pandas Foundations\n",
    "- Manipulating DataFrames with pandas\n",
    "- Merging DataFrames with pandas\n",
    "\n",
    "Of the tools, techniques and concepts in the above DataCamp courses, this challenge should require the application of the following: \n",
    "- **pandas**\n",
    "    - **data ingestion and inspection** (pandas Foundations, Module One) \n",
    "    - **exploratory data analysis** (pandas Foundations, Module Two)\n",
    "    - **tidying and cleaning** (Manipulating DataFrames with pandas, Module Three) \n",
    "    - **transforming DataFrames** (Manipulating DataFrames with pandas, Module One)\n",
    "    - **subsetting DataFrames with lists** (Manipulating DataFrames with pandas, Module One) \n",
    "    - **filtering DataFrames** (Manipulating DataFrames with pandas, Module One) \n",
    "    - **grouping data** (Manipulating DataFrames with pandas, Module Four) \n",
    "    - **melting data** (Manipulating DataFrames with pandas, Module Three) \n",
    "    - **advanced indexing** (Manipulating DataFrames with pandas, Module Four) \n",
    "- **matplotlib** (Intermediate Python for Data Science, Module One)\n",
    "- **fundamental data types** (Data Types for Data Science, Module One) \n",
    "- **dictionaries** (Intermediate Python for Data Science, Module Two)\n",
    "- **handling dates and times** (Data Types for Data Science, Module Four)\n",
    "- **function definition** (Python Data Science Toolbox - Part One, Module One)\n",
    "- **default arguments, variable length, and scope** (Python Data Science Toolbox - Part One, Module Two) \n",
    "- **lambda functions and error handling** (Python Data Science Toolbox - Part One, Module Four) "
   ]
  },
  {
   "cell_type": "markdown",
   "metadata": {
    "colab_type": "text",
    "id": "Ipgd2nV8Jpgl"
   },
   "source": [
    "## The Data Science Pipeline\n",
    "\n",
    "This is Tier Three, so we'll get you started. But after that, it's all in your hands! When you feel done with your investigations, look back over what you've accomplished, and prepare a quick presentation of your findings for the next mentor meeting. \n",
    "\n",
    "Data Science is magical. In this case study, you'll get to apply some complex machine learning algorithms. But as  [David Spiegelhalter](https://www.youtube.com/watch?v=oUs1uvsz0Ok) reminds us, there is no substitute for simply **taking a really, really good look at the data.** Sometimes, this is all we need to answer our question.\n",
    "\n",
    "Data Science projects generally adhere to the four stages of Data Science Pipeline:\n",
    "1. Sourcing and loading \n",
    "2. Cleaning, transforming, and visualizing \n",
    "3. Modeling \n",
    "4. Evaluating and concluding \n"
   ]
  },
  {
   "cell_type": "markdown",
   "metadata": {
    "colab_type": "text",
    "id": "zswDqbefJpgm"
   },
   "source": [
    "### 1. Sourcing and Loading \n",
    "\n",
    "Any Data Science project kicks off by importing  ***pandas***. The documentation of this wonderful library can be found [here](https://pandas.pydata.org/). As you've seen, pandas is conveniently connected to the [Numpy](http://www.numpy.org/) and [Matplotlib](https://matplotlib.org/) libraries. \n",
    "\n",
    "***Hint:*** This part of the data science pipeline will test those skills you acquired in the pandas Foundations course, Module One. "
   ]
  },
  {
   "cell_type": "markdown",
   "metadata": {
    "colab_type": "text",
    "id": "aEau5nEvJpgm"
   },
   "source": [
    "#### 1.1. Importing Libraries"
   ]
  },
  {
   "cell_type": "code",
   "execution_count": 2,
   "metadata": {
    "colab": {},
    "colab_type": "code",
    "id": "7Bt_Q_oPJpgn"
   },
   "outputs": [],
   "source": [
    "import pandas as pd\n",
    "import numpy as np\n",
    "import matplotlib.pyplot as plt\n",
    "import seaborn as sns\n"
   ]
  },
  {
   "cell_type": "markdown",
   "metadata": {
    "colab_type": "text",
    "id": "koUrawxsJpgq"
   },
   "source": [
    "#### 1.2.  Loading the data\n",
    "Your data comes from the [London Datastore](https://data.london.gov.uk/): a free, open-source data-sharing portal for London-oriented datasets. "
   ]
  },
  {
   "cell_type": "code",
   "execution_count": 3,
   "metadata": {
    "colab": {},
    "colab_type": "code",
    "id": "AiLiD4v3Jpgr"
   },
   "outputs": [],
   "source": [
    "# First, make a variable called url_LondonHousePrices, and assign it the following link, enclosed in quotation-marks as a string:\n",
    "# https://data.london.gov.uk/download/uk-house-price-index/70ac0766-8902-4eb5-aab5-01951aaed773/UK%20House%20price%20index.xls\n",
    "\n",
    "# First, make a variable called url_LondonHousePrices, and assign it the following link, enclosed in quotation-marks as a string:\n",
    "url_LondonHousePrices = \"https://data.london.gov.uk/download/uk-house-price-index/70ac0766-8902-4eb5-aab5-01951aaed773/UK%20House%20price%20index.xls\"\n",
    "\n"
   ]
  },
  {
   "cell_type": "code",
   "execution_count": 4,
   "metadata": {},
   "outputs": [],
   "source": [
    "# The dataset we're interested in contains the Average prices of the houses, and is actually on a particular sheet of the Excel file. \n",
    "# As a result, we need to specify the sheet name in the read_excel() method.\n",
    "# Put this data into a variable called properties.  \n",
    "properties = pd.read_excel(\n",
    "    url_LondonHousePrices,\n",
    "    sheet_name=\"Average price\", \n",
    "    index_col=None\n",
    ")"
   ]
  },
  {
   "cell_type": "markdown",
   "metadata": {
    "colab_type": "text",
    "id": "POukEJXgJpgu"
   },
   "source": [
    "### 2. Cleaning, transforming, and visualizing\n",
    "This second stage is arguably the most important part of any Data Science project. The first thing to do is take a proper look at the data. Cleaning forms the majority of this stage, and can be done both before or after Transformation.\n",
    "\n",
    "The end goal of data cleaning is to have tidy data. When data is tidy: \n",
    "\n",
    "1. Each variable has a column.\n",
    "2. Each observation forms a row.\n",
    "\n",
    "Keep the end goal in mind as you move through this process, every step will take you closer. \n",
    "\n",
    "\n",
    "\n",
    "***Hint:*** This part of the data science pipeline should test those skills you acquired in: \n",
    "- Intermediate Python for data science, all modules.\n",
    "- pandas Foundations, all modules. \n",
    "- Manipulating DataFrames with pandas, all modules.\n",
    "- Data Types for Data Science, Module Four.\n",
    "- Python Data Science Toolbox - Part One, all modules"
   ]
  },
  {
   "cell_type": "markdown",
   "metadata": {
    "colab_type": "text",
    "id": "Te0Q548tnzZa"
   },
   "source": [
    "**2.1. Exploring your data** \n",
    "\n",
    "Think about your pandas functions for checking out a dataframe. "
   ]
  },
  {
   "cell_type": "code",
   "execution_count": 5,
   "metadata": {
    "colab": {},
    "colab_type": "code",
    "id": "Rxirxw_qoAJa"
   },
   "outputs": [],
   "source": [
    "def explore_dataframe(df):\n",
    "    \"\"\"\n",
    "    Explore a pandas DataFrame with various methods and descriptive statistics.\n",
    "    \"\"\"\n",
    "    print(\"Data Preview (head):\")\n",
    "    print(df.head(), \"\\n\")\n",
    "\n",
    "    print(\"Structure:\")\n",
    "    print(f\"Shape: {df.shape}\")\n",
    "    print(f\"Columns: {df.columns.tolist()}\")\n",
    "    print(f\"Index: {df.index}\\n\")\n",
    "    print(f\"Type of columns: {type(df.columns)}\\n\")\n",
    "\n",
    "\n",
    "    print(\"Info:\")\n",
    "    print(df.info(), \"\\n\")\n",
    "\n",
    "    print(\"Data Types:\")\n",
    "    print(df.dtypes, \"\\n\")\n",
    "\n",
    " \n",
    "    print(\"Summary Statistics (Numeric):\")\n",
    "    print(df.describe(), \"\\n\")\n",
    "\n",
    "    print(\"Summary Statistics (Categorical):\")\n",
    "    print(df.describe(include='object'), \"\\n\")\n",
    "\n",
    "    print(\"Missing Values (count):\")\n",
    "    print(df.isnull().sum(), \"\\n\")\n",
    "\n",
    "    print(\"Missing Values (proportion):\")\n",
    "    print(df.isna().mean(), \"\\n\")\n",
    "\n",
    "    print(\"Duplicate Rows:\")\n",
    "    print(df.duplicated().sum(), \"\\n\")\n"
   ]
  },
  {
   "cell_type": "code",
   "execution_count": 6,
   "metadata": {},
   "outputs": [
    {
     "name": "stdout",
     "output_type": "stream",
     "text": [
      "Data Preview (head):\n",
      "  Unnamed: 0 City of London Barking & Dagenham     Barnet     Bexley  \\\n",
      "0        NaT      E09000001          E09000002  E09000003  E09000004   \n",
      "1 1995-01-01          90347              51870      98948      64956   \n",
      "2 1995-02-01          81213              52513      98848      64786   \n",
      "3 1995-03-01          78168              52701      97848      64366   \n",
      "4 1995-04-01          76172              54618      96273      64276   \n",
      "\n",
      "       Brent    Bromley     Camden    Croydon     Ealing  ... NORTH WEST  \\\n",
      "0  E09000005  E09000006  E09000007  E09000008  E09000009  ...  E12000002   \n",
      "1      76880      83082     119775      70118      85469  ...      40907   \n",
      "2      77651      83068     118365      69908      86551  ...      40877   \n",
      "3      77644      82856     119131      69666      87067  ...      41351   \n",
      "4      78668      82525     118948      69562      87933  ...      41195   \n",
      "\n",
      "  YORKS & THE HUMBER EAST MIDLANDS WEST MIDLANDS EAST OF ENGLAND     LONDON  \\\n",
      "0          E12000003     E12000004     E12000005       E12000006  E12000007   \n",
      "1              42171         43856         46470           56098      79687   \n",
      "2              41912         44344         47249           55991      77913   \n",
      "3              42544         43701         47345           55574      79110   \n",
      "4              42934         44414         47359           55966      79708   \n",
      "\n",
      "  SOUTH EAST SOUTH WEST Unnamed: 47    England  \n",
      "0  E12000008  E12000009         NaN  E92000001  \n",
      "1      64502      52799         NaN      50231  \n",
      "2      64196      52462         NaN      50130  \n",
      "3      64597      51716         NaN      50229  \n",
      "4      65111      52877         NaN      50597  \n",
      "\n",
      "[5 rows x 49 columns] \n",
      "\n",
      "Structure:\n",
      "Shape: (366, 49)\n",
      "Columns: ['Unnamed: 0', 'City of London', 'Barking & Dagenham', 'Barnet', 'Bexley', 'Brent', 'Bromley', 'Camden', 'Croydon', 'Ealing', 'Enfield', 'Greenwich', 'Hackney', 'Hammersmith & Fulham', 'Haringey', 'Harrow', 'Havering', 'Hillingdon', 'Hounslow', 'Islington', 'Kensington & Chelsea', 'Kingston upon Thames', 'Lambeth', 'Lewisham', 'Merton', 'Newham', 'Redbridge', 'Richmond upon Thames', 'Southwark', 'Sutton', 'Tower Hamlets', 'Waltham Forest', 'Wandsworth', 'Westminster', 'Unnamed: 34', 'Inner London', 'Outer London', 'Unnamed: 37', 'NORTH EAST', 'NORTH WEST', 'YORKS & THE HUMBER', 'EAST MIDLANDS', 'WEST MIDLANDS', 'EAST OF ENGLAND', 'LONDON', 'SOUTH EAST', 'SOUTH WEST', 'Unnamed: 47', 'England']\n",
      "Index: RangeIndex(start=0, stop=366, step=1)\n",
      "\n",
      "Type of columns: <class 'pandas.core.indexes.base.Index'>\n",
      "\n",
      "Info:\n",
      "<class 'pandas.core.frame.DataFrame'>\n",
      "RangeIndex: 366 entries, 0 to 365\n",
      "Data columns (total 49 columns):\n",
      " #   Column                Non-Null Count  Dtype         \n",
      "---  ------                --------------  -----         \n",
      " 0   Unnamed: 0            365 non-null    datetime64[ns]\n",
      " 1   City of London        366 non-null    object        \n",
      " 2   Barking & Dagenham    366 non-null    object        \n",
      " 3   Barnet                366 non-null    object        \n",
      " 4   Bexley                366 non-null    object        \n",
      " 5   Brent                 366 non-null    object        \n",
      " 6   Bromley               366 non-null    object        \n",
      " 7   Camden                366 non-null    object        \n",
      " 8   Croydon               366 non-null    object        \n",
      " 9   Ealing                366 non-null    object        \n",
      " 10  Enfield               366 non-null    object        \n",
      " 11  Greenwich             366 non-null    object        \n",
      " 12  Hackney               366 non-null    object        \n",
      " 13  Hammersmith & Fulham  366 non-null    object        \n",
      " 14  Haringey              366 non-null    object        \n",
      " 15  Harrow                366 non-null    object        \n",
      " 16  Havering              366 non-null    object        \n",
      " 17  Hillingdon            366 non-null    object        \n",
      " 18  Hounslow              366 non-null    object        \n",
      " 19  Islington             366 non-null    object        \n",
      " 20  Kensington & Chelsea  366 non-null    object        \n",
      " 21  Kingston upon Thames  366 non-null    object        \n",
      " 22  Lambeth               366 non-null    object        \n",
      " 23  Lewisham              366 non-null    object        \n",
      " 24  Merton                366 non-null    object        \n",
      " 25  Newham                366 non-null    object        \n",
      " 26  Redbridge             366 non-null    object        \n",
      " 27  Richmond upon Thames  366 non-null    object        \n",
      " 28  Southwark             366 non-null    object        \n",
      " 29  Sutton                366 non-null    object        \n",
      " 30  Tower Hamlets         366 non-null    object        \n",
      " 31  Waltham Forest        366 non-null    object        \n",
      " 32  Wandsworth            366 non-null    object        \n",
      " 33  Westminster           366 non-null    object        \n",
      " 34  Unnamed: 34           0 non-null      float64       \n",
      " 35  Inner London          366 non-null    object        \n",
      " 36  Outer London          366 non-null    object        \n",
      " 37  Unnamed: 37           0 non-null      float64       \n",
      " 38  NORTH EAST            366 non-null    object        \n",
      " 39  NORTH WEST            366 non-null    object        \n",
      " 40  YORKS & THE HUMBER    366 non-null    object        \n",
      " 41  EAST MIDLANDS         366 non-null    object        \n",
      " 42  WEST MIDLANDS         366 non-null    object        \n",
      " 43  EAST OF ENGLAND       366 non-null    object        \n",
      " 44  LONDON                366 non-null    object        \n",
      " 45  SOUTH EAST            366 non-null    object        \n",
      " 46  SOUTH WEST            366 non-null    object        \n",
      " 47  Unnamed: 47           0 non-null      float64       \n",
      " 48  England               366 non-null    object        \n",
      "dtypes: datetime64[ns](1), float64(3), object(45)\n",
      "memory usage: 140.2+ KB\n",
      "None \n",
      "\n",
      "Data Types:\n",
      "Unnamed: 0              datetime64[ns]\n",
      "City of London                  object\n",
      "Barking & Dagenham              object\n",
      "Barnet                          object\n",
      "Bexley                          object\n",
      "Brent                           object\n",
      "Bromley                         object\n",
      "Camden                          object\n",
      "Croydon                         object\n",
      "Ealing                          object\n",
      "Enfield                         object\n",
      "Greenwich                       object\n",
      "Hackney                         object\n",
      "Hammersmith & Fulham            object\n",
      "Haringey                        object\n",
      "Harrow                          object\n",
      "Havering                        object\n",
      "Hillingdon                      object\n",
      "Hounslow                        object\n",
      "Islington                       object\n",
      "Kensington & Chelsea            object\n",
      "Kingston upon Thames            object\n",
      "Lambeth                         object\n",
      "Lewisham                        object\n",
      "Merton                          object\n",
      "Newham                          object\n",
      "Redbridge                       object\n",
      "Richmond upon Thames            object\n",
      "Southwark                       object\n",
      "Sutton                          object\n",
      "Tower Hamlets                   object\n",
      "Waltham Forest                  object\n",
      "Wandsworth                      object\n",
      "Westminster                     object\n",
      "Unnamed: 34                    float64\n",
      "Inner London                    object\n",
      "Outer London                    object\n",
      "Unnamed: 37                    float64\n",
      "NORTH EAST                      object\n",
      "NORTH WEST                      object\n",
      "YORKS & THE HUMBER              object\n",
      "EAST MIDLANDS                   object\n",
      "WEST MIDLANDS                   object\n",
      "EAST OF ENGLAND                 object\n",
      "LONDON                          object\n",
      "SOUTH EAST                      object\n",
      "SOUTH WEST                      object\n",
      "Unnamed: 47                    float64\n",
      "England                         object\n",
      "dtype: object \n",
      "\n",
      "Summary Statistics (Numeric):\n",
      "                          Unnamed: 0  Unnamed: 34  Unnamed: 37  Unnamed: 47\n",
      "count                            365          0.0          0.0          0.0\n",
      "mean   2010-03-02 01:14:57.534246656          NaN          NaN          NaN\n",
      "min              1995-01-01 00:00:00          NaN          NaN          NaN\n",
      "25%              2002-08-01 00:00:00          NaN          NaN          NaN\n",
      "50%              2010-03-01 00:00:00          NaN          NaN          NaN\n",
      "75%              2017-10-01 00:00:00          NaN          NaN          NaN\n",
      "max              2025-05-01 00:00:00          NaN          NaN          NaN\n",
      "std                              NaN          NaN          NaN          NaN \n",
      "\n",
      "Summary Statistics (Categorical):\n",
      "        City of London  Barking & Dagenham  Barnet  Bexley   Brent  Bromley  \\\n",
      "count              366                 366     366     366     366      366   \n",
      "unique             366                 365     366     365     365      366   \n",
      "top             823848              313020  590194   64786  266052   532798   \n",
      "freq                 1                   2       1       2       2        1   \n",
      "\n",
      "        Camden  Croydon  Ealing  Enfield  ...  NORTH EAST  NORTH WEST  \\\n",
      "count      366      366     366      366  ...         366         366   \n",
      "unique     365      364     366      365  ...         366         365   \n",
      "top     807686   243437  576197    75987  ...      203836      136500   \n",
      "freq         2        2       1        2  ...           1           2   \n",
      "\n",
      "        YORKS & THE HUMBER  EAST MIDLANDS  WEST MIDLANDS  EAST OF ENGLAND  \\\n",
      "count                  366            366            366              366   \n",
      "unique                 366            366            365              365   \n",
      "top                 244262         339747          47495           285274   \n",
      "freq                     1              1              2                2   \n",
      "\n",
      "        LONDON  SOUTH EAST  SOUTH WEST  England  \n",
      "count      366         366         366      366  \n",
      "unique     366         365         365      366  \n",
      "top     304237      229580      174072   290395  \n",
      "freq         1           2           2        1  \n",
      "\n",
      "[4 rows x 45 columns] \n",
      "\n",
      "Missing Values (count):\n",
      "Unnamed: 0                1\n",
      "City of London            0\n",
      "Barking & Dagenham        0\n",
      "Barnet                    0\n",
      "Bexley                    0\n",
      "Brent                     0\n",
      "Bromley                   0\n",
      "Camden                    0\n",
      "Croydon                   0\n",
      "Ealing                    0\n",
      "Enfield                   0\n",
      "Greenwich                 0\n",
      "Hackney                   0\n",
      "Hammersmith & Fulham      0\n",
      "Haringey                  0\n",
      "Harrow                    0\n",
      "Havering                  0\n",
      "Hillingdon                0\n",
      "Hounslow                  0\n",
      "Islington                 0\n",
      "Kensington & Chelsea      0\n",
      "Kingston upon Thames      0\n",
      "Lambeth                   0\n",
      "Lewisham                  0\n",
      "Merton                    0\n",
      "Newham                    0\n",
      "Redbridge                 0\n",
      "Richmond upon Thames      0\n",
      "Southwark                 0\n",
      "Sutton                    0\n",
      "Tower Hamlets             0\n",
      "Waltham Forest            0\n",
      "Wandsworth                0\n",
      "Westminster               0\n",
      "Unnamed: 34             366\n",
      "Inner London              0\n",
      "Outer London              0\n",
      "Unnamed: 37             366\n",
      "NORTH EAST                0\n",
      "NORTH WEST                0\n",
      "YORKS & THE HUMBER        0\n",
      "EAST MIDLANDS             0\n",
      "WEST MIDLANDS             0\n",
      "EAST OF ENGLAND           0\n",
      "LONDON                    0\n",
      "SOUTH EAST                0\n",
      "SOUTH WEST                0\n",
      "Unnamed: 47             366\n",
      "England                   0\n",
      "dtype: int64 \n",
      "\n",
      "Missing Values (proportion):\n",
      "Unnamed: 0              0.002732\n",
      "City of London          0.000000\n",
      "Barking & Dagenham      0.000000\n",
      "Barnet                  0.000000\n",
      "Bexley                  0.000000\n",
      "Brent                   0.000000\n",
      "Bromley                 0.000000\n",
      "Camden                  0.000000\n",
      "Croydon                 0.000000\n",
      "Ealing                  0.000000\n",
      "Enfield                 0.000000\n",
      "Greenwich               0.000000\n",
      "Hackney                 0.000000\n",
      "Hammersmith & Fulham    0.000000\n",
      "Haringey                0.000000\n",
      "Harrow                  0.000000\n",
      "Havering                0.000000\n",
      "Hillingdon              0.000000\n",
      "Hounslow                0.000000\n",
      "Islington               0.000000\n",
      "Kensington & Chelsea    0.000000\n",
      "Kingston upon Thames    0.000000\n",
      "Lambeth                 0.000000\n",
      "Lewisham                0.000000\n",
      "Merton                  0.000000\n",
      "Newham                  0.000000\n",
      "Redbridge               0.000000\n",
      "Richmond upon Thames    0.000000\n",
      "Southwark               0.000000\n",
      "Sutton                  0.000000\n",
      "Tower Hamlets           0.000000\n",
      "Waltham Forest          0.000000\n",
      "Wandsworth              0.000000\n",
      "Westminster             0.000000\n",
      "Unnamed: 34             1.000000\n",
      "Inner London            0.000000\n",
      "Outer London            0.000000\n",
      "Unnamed: 37             1.000000\n",
      "NORTH EAST              0.000000\n",
      "NORTH WEST              0.000000\n",
      "YORKS & THE HUMBER      0.000000\n",
      "EAST MIDLANDS           0.000000\n",
      "WEST MIDLANDS           0.000000\n",
      "EAST OF ENGLAND         0.000000\n",
      "LONDON                  0.000000\n",
      "SOUTH EAST              0.000000\n",
      "SOUTH WEST              0.000000\n",
      "Unnamed: 47             1.000000\n",
      "England                 0.000000\n",
      "dtype: float64 \n",
      "\n",
      "Duplicate Rows:\n",
      "0 \n",
      "\n"
     ]
    }
   ],
   "source": [
    "explore_dataframe(df=properties)"
   ]
  },
  {
   "cell_type": "markdown",
   "metadata": {
    "colab_type": "text",
    "id": "tE9Sqt9-oAta"
   },
   "source": [
    "**2.2. Cleaning the data**\n",
    "\n",
    "You might find you need to transpose your dataframe, check out what its row indexes are, and reset the index. You  also might find you need to assign the values of the first row to your column headings  . (Hint: recall the .columns feature of DataFrames, as well as the iloc[] method).\n",
    "\n",
    "Don't be afraid to use StackOverflow for help  with this."
   ]
  },
  {
   "cell_type": "code",
   "execution_count": 7,
   "metadata": {
    "colab": {},
    "colab_type": "code",
    "id": "cdAu1A3YoH_r"
   },
   "outputs": [],
   "source": [
    "# Drop the second row with alphanumeric codes\n",
    "properties = properties.drop(index=0)\n",
    "\n",
    "# Rename the first column to \"Date\" and convert it to datetime\n",
    "properties.rename(columns={\"Unnamed: 0\": \"Date\"}, inplace=True)\n",
    "\n"
   ]
  },
  {
   "cell_type": "code",
   "execution_count": 8,
   "metadata": {},
   "outputs": [
    {
     "name": "stdout",
     "output_type": "stream",
     "text": [
      "['Date', 'City of London', 'Barking & Dagenham', 'Barnet', 'Bexley', 'Brent', 'Bromley', 'Camden', 'Croydon', 'Ealing', 'Enfield', 'Greenwich', 'Hackney', 'Hammersmith & Fulham', 'Haringey', 'Harrow', 'Havering', 'Hillingdon', 'Hounslow', 'Islington', 'Kensington & Chelsea', 'Kingston upon Thames', 'Lambeth', 'Lewisham', 'Merton', 'Newham', 'Redbridge', 'Richmond upon Thames', 'Southwark', 'Sutton', 'Tower Hamlets', 'Waltham Forest', 'Wandsworth', 'Westminster', 'Inner London', 'Outer London', 'NORTH EAST', 'NORTH WEST', 'YORKS & THE HUMBER', 'EAST MIDLANDS', 'WEST MIDLANDS', 'EAST OF ENGLAND', 'LONDON', 'SOUTH EAST', 'SOUTH WEST', 'England']\n"
     ]
    }
   ],
   "source": [
    "properties = properties.dropna(axis=1, how='all')  # Drop columns that are completely empty\n",
    "\n",
    "print(properties.columns.to_list())"
   ]
  },
  {
   "cell_type": "code",
   "execution_count": 9,
   "metadata": {},
   "outputs": [
    {
     "name": "stdout",
     "output_type": "stream",
     "text": [
      "Index(['Barking & Dagenham', 'Barnet', 'Bexley', 'Brent', 'Bromley', 'Camden',\n",
      "       'City of London', 'Croydon', 'EAST MIDLANDS', 'EAST OF ENGLAND',\n",
      "       'Ealing', 'Enfield', 'England', 'Greenwich', 'Hackney',\n",
      "       'Hammersmith & Fulham', 'Haringey', 'Harrow', 'Havering', 'Hillingdon',\n",
      "       'Hounslow', 'Inner London', 'Islington', 'Kensington & Chelsea',\n",
      "       'Kingston upon Thames', 'LONDON', 'Lambeth', 'Lewisham', 'Merton',\n",
      "       'NORTH EAST', 'NORTH WEST', 'Newham', 'Outer London', 'Redbridge',\n",
      "       'Richmond upon Thames', 'SOUTH EAST', 'SOUTH WEST', 'Southwark',\n",
      "       'Sutton', 'Tower Hamlets', 'WEST MIDLANDS', 'Waltham Forest',\n",
      "       'Wandsworth', 'Westminster', 'YORKS & THE HUMBER'],\n",
      "      dtype='object')\n",
      "            City of London  Barking & Dagenham   Barnet   Bexley    Brent  \\\n",
      "Date                                                                        \n",
      "1995-01-01         90347.0             51870.0  98948.0  64956.0  76880.0   \n",
      "1995-02-01         81213.0             52513.0  98848.0  64786.0  77651.0   \n",
      "1995-03-01         78168.0             52701.0  97848.0  64366.0  77644.0   \n",
      "1995-04-01         76172.0             54618.0  96273.0  64276.0  78668.0   \n",
      "1995-05-01         83392.0             54524.0  95737.0  63995.0  79464.0   \n",
      "\n",
      "            Bromley    Camden  Croydon   Ealing  Enfield  ...  NORTH EAST  \\\n",
      "Date                                                      ...               \n",
      "1995-01-01  83082.0  119775.0  70118.0  85469.0  77018.0  ...     39809.0   \n",
      "1995-02-01  83068.0  118365.0  69908.0  86551.0  77698.0  ...     40278.0   \n",
      "1995-03-01  82856.0  119131.0  69666.0  87067.0  76674.0  ...     40086.0   \n",
      "1995-04-01  82525.0  118948.0  69562.0  87933.0  75880.0  ...     39827.0   \n",
      "1995-05-01  82951.0  118781.0  69800.0  87813.0  75017.0  ...     40935.0   \n",
      "\n",
      "            NORTH WEST  YORKS & THE HUMBER  EAST MIDLANDS  WEST MIDLANDS  \\\n",
      "Date                                                                       \n",
      "1995-01-01     40907.0             42171.0        43856.0        46470.0   \n",
      "1995-02-01     40877.0             41912.0        44344.0        47249.0   \n",
      "1995-03-01     41351.0             42544.0        43701.0        47345.0   \n",
      "1995-04-01     41195.0             42934.0        44414.0        47359.0   \n",
      "1995-05-01     41154.0             42197.0        44177.0        48234.0   \n",
      "\n",
      "            EAST OF ENGLAND   LONDON  SOUTH EAST  SOUTH WEST  England  \n",
      "Date                                                                   \n",
      "1995-01-01          56098.0  79687.0     64502.0     52799.0  50231.0  \n",
      "1995-02-01          55991.0  77913.0     64196.0     52462.0  50130.0  \n",
      "1995-03-01          55574.0  79110.0     64597.0     51716.0  50229.0  \n",
      "1995-04-01          55966.0  79708.0     65111.0     52877.0  50597.0  \n",
      "1995-05-01          55879.0  80754.0     65017.0     52793.0  50679.0  \n",
      "\n",
      "[5 rows x 45 columns]\n"
     ]
    }
   ],
   "source": [
    "# Convert Price columns to float type\n",
    "cols_to_convert = properties.columns.difference([\"Date\"])\n",
    "print(cols_to_convert)\n",
    "\n",
    "properties[cols_to_convert] = properties[cols_to_convert].astype(float)\n",
    "\n",
    "# Set the \"Date\" column as the index (so it becomes the row labels)\n",
    "properties.set_index(\"Date\", inplace=True)\n",
    "print(properties.head())\n"
   ]
  },
  {
   "cell_type": "code",
   "execution_count": 10,
   "metadata": {},
   "outputs": [
    {
     "name": "stdout",
     "output_type": "stream",
     "text": [
      "            City of London  Barking & Dagenham   Barnet   Bexley    Brent  \\\n",
      "Date                                                                        \n",
      "1995-01-01         90347.0             51870.0  98948.0  64956.0  76880.0   \n",
      "1995-02-01         81213.0             52513.0  98848.0  64786.0  77651.0   \n",
      "1995-03-01         78168.0             52701.0  97848.0  64366.0  77644.0   \n",
      "1995-04-01         76172.0             54618.0  96273.0  64276.0  78668.0   \n",
      "1995-05-01         83392.0             54524.0  95737.0  63995.0  79464.0   \n",
      "\n",
      "            Bromley    Camden  Croydon   Ealing  Enfield  ...  NORTH EAST  \\\n",
      "Date                                                      ...               \n",
      "1995-01-01  83082.0  119775.0  70118.0  85469.0  77018.0  ...     39809.0   \n",
      "1995-02-01  83068.0  118365.0  69908.0  86551.0  77698.0  ...     40278.0   \n",
      "1995-03-01  82856.0  119131.0  69666.0  87067.0  76674.0  ...     40086.0   \n",
      "1995-04-01  82525.0  118948.0  69562.0  87933.0  75880.0  ...     39827.0   \n",
      "1995-05-01  82951.0  118781.0  69800.0  87813.0  75017.0  ...     40935.0   \n",
      "\n",
      "            NORTH WEST  YORKS & THE HUMBER  EAST MIDLANDS  WEST MIDLANDS  \\\n",
      "Date                                                                       \n",
      "1995-01-01     40907.0             42171.0        43856.0        46470.0   \n",
      "1995-02-01     40877.0             41912.0        44344.0        47249.0   \n",
      "1995-03-01     41351.0             42544.0        43701.0        47345.0   \n",
      "1995-04-01     41195.0             42934.0        44414.0        47359.0   \n",
      "1995-05-01     41154.0             42197.0        44177.0        48234.0   \n",
      "\n",
      "            EAST OF ENGLAND   LONDON  SOUTH EAST  SOUTH WEST  England  \n",
      "Date                                                                   \n",
      "1995-01-01          56098.0  79687.0     64502.0     52799.0  50231.0  \n",
      "1995-02-01          55991.0  77913.0     64196.0     52462.0  50130.0  \n",
      "1995-03-01          55574.0  79110.0     64597.0     51716.0  50229.0  \n",
      "1995-04-01          55966.0  79708.0     65111.0     52877.0  50597.0  \n",
      "1995-05-01          55879.0  80754.0     65017.0     52793.0  50679.0  \n",
      "\n",
      "[5 rows x 45 columns]\n"
     ]
    }
   ],
   "source": [
    "print(properties.head())"
   ]
  },
  {
   "cell_type": "code",
   "execution_count": 11,
   "metadata": {},
   "outputs": [
    {
     "name": "stdout",
     "output_type": "stream",
     "text": [
      "Type of columns: <class 'pandas.core.indexes.datetimes.DatetimeIndex'>\n",
      "\n",
      "Date                1995-01-01  1995-02-01  1995-03-01  1995-04-01  \\\n",
      "Area                                                                 \n",
      "City of London         90347.0     81213.0     78168.0     76172.0   \n",
      "Barking & Dagenham     51870.0     52513.0     52701.0     54618.0   \n",
      "Barnet                 98948.0     98848.0     97848.0     96273.0   \n",
      "Bexley                 64956.0     64786.0     64366.0     64276.0   \n",
      "Brent                  76880.0     77651.0     77644.0     78668.0   \n",
      "\n",
      "Date                1995-05-01  1995-06-01  1995-07-01  1995-08-01  \\\n",
      "Area                                                                 \n",
      "City of London         83392.0     93757.0    108801.0    110976.0   \n",
      "Barking & Dagenham     54524.0     55200.0     53569.0     53691.0   \n",
      "Barnet                 95737.0     95577.0     96992.0     97968.0   \n",
      "Bexley                 63995.0     64251.0     63721.0     64431.0   \n",
      "Brent                  79464.0     80118.0     79920.0     79295.0   \n",
      "\n",
      "Date                1995-09-01  1995-10-01  ...  2024-08-01  2024-09-01  \\\n",
      "Area                                        ...                           \n",
      "City of London        103215.0    106737.0  ...    764921.0    763706.0   \n",
      "Barking & Dagenham     52909.0     52953.0  ...    335087.0    339744.0   \n",
      "Barnet                 98936.0     98187.0  ...    628928.0    627552.0   \n",
      "Bexley                 64508.0     64528.0  ...    404352.0    406132.0   \n",
      "Brent                  79557.0     78990.0  ...    573670.0    580059.0   \n",
      "\n",
      "Date                2024-10-01  2024-11-01  2024-12-01  2025-01-01  \\\n",
      "Area                                                                 \n",
      "City of London        741765.0    727751.0    777288.0    783207.0   \n",
      "Barking & Dagenham    347931.0    352895.0    355425.0    353979.0   \n",
      "Barnet                629655.0    632386.0    627547.0    614121.0   \n",
      "Bexley                407721.0    406226.0    403881.0    405166.0   \n",
      "Brent                 593569.0    590426.0    579868.0    571036.0   \n",
      "\n",
      "Date                2025-02-01  2025-03-01  2025-04-01  2025-05-01  \n",
      "Area                                                                \n",
      "City of London        766638.0    722888.0    760612.0    823848.0  \n",
      "Barking & Dagenham    363732.0    372806.0    374253.0    370694.0  \n",
      "Barnet                606811.0    604788.0    598964.0    590194.0  \n",
      "Bexley                407068.0    406953.0    396072.0    394537.0  \n",
      "Brent                 562918.0    563087.0    566629.0    562397.0  \n",
      "\n",
      "[5 rows x 365 columns]\n",
      "Date\n",
      "1995-01-01    float64\n",
      "1995-02-01    float64\n",
      "1995-03-01    float64\n",
      "1995-04-01    float64\n",
      "1995-05-01    float64\n",
      "               ...   \n",
      "2025-01-01    float64\n",
      "2025-02-01    float64\n",
      "2025-03-01    float64\n",
      "2025-04-01    float64\n",
      "2025-05-01    float64\n",
      "Length: 365, dtype: object\n"
     ]
    }
   ],
   "source": [
    "properties_trans = properties.T\n",
    "properties_trans.index.name = \"Area\"\n",
    "\n",
    "print(f\"Type of columns: {type(properties_trans.columns)}\\n\")\n",
    "print(properties_trans.head())\n",
    "print(properties_trans.dtypes)\n",
    "\n"
   ]
  },
  {
   "cell_type": "markdown",
   "metadata": {
    "colab_type": "text",
    "id": "o1uLbJAsoIjK"
   },
   "source": [
    "**2.3. Cleaning the data (part 2)**\n",
    "\n",
    "You might we have to **rename** a couple columns. How do you do this? The clue's pretty bold..."
   ]
  },
  {
   "cell_type": "code",
   "execution_count": 12,
   "metadata": {
    "colab": {},
    "colab_type": "code",
    "id": "GKkmn1AnoVZS"
   },
   "outputs": [
    {
     "name": "stdout",
     "output_type": "stream",
     "text": [
      "['City Of London', 'Barking & Dagenham', 'Barnet', 'Bexley', 'Brent', 'Bromley', 'Camden', 'Croydon', 'Ealing', 'Enfield', 'Greenwich', 'Hackney', 'Hammersmith & Fulham', 'Haringey', 'Harrow', 'Havering', 'Hillingdon', 'Hounslow', 'Islington', 'Kensington & Chelsea', 'Kingston Upon Thames', 'Lambeth', 'Lewisham', 'Merton', 'Newham', 'Redbridge', 'Richmond Upon Thames', 'Southwark', 'Sutton', 'Tower Hamlets', 'Waltham Forest', 'Wandsworth', 'Westminster', 'Inner London', 'Outer London', 'North East', 'North West', 'Yorks & The Humber', 'East Midlands', 'West Midlands', 'East Of England', 'London', 'South East', 'South West', 'England']\n"
     ]
    }
   ],
   "source": [
    "# Convert the index to title case to standardize area names\n",
    "properties_trans.index = properties_trans.index.str.title()\n",
    "print(properties_trans.index.tolist())\n"
   ]
  },
  {
   "cell_type": "code",
   "execution_count": 13,
   "metadata": {},
   "outputs": [
    {
     "name": "stdout",
     "output_type": "stream",
     "text": [
      "45\n",
      "['City Of London', 'Barking & Dagenham', 'Barnet', 'Bexley', 'Brent', 'Bromley', 'Camden', 'Croydon', 'Ealing', 'Enfield', 'Greenwich', 'Hackney', 'Hammersmith & Fulham', 'Haringey', 'Harrow', 'Havering', 'Hillingdon', 'Hounslow', 'Islington', 'Kensington & Chelsea', 'Kingston Upon Thames', 'Lambeth', 'Lewisham', 'Merton', 'Newham', 'Redbridge', 'Richmond Upon Thames', 'Southwark', 'Sutton', 'Tower Hamlets', 'Waltham Forest', 'Wandsworth', 'Westminster', 'Inner London', 'Outer London', 'North East', 'North West', 'Yorks & The Humber', 'East Midlands', 'West Midlands', 'East Of England', 'London', 'South East', 'South West', 'England']\n"
     ]
    }
   ],
   "source": [
    "print(len(properties_trans.index.unique().tolist()))\n",
    "print(properties_trans.index.unique().tolist())"
   ]
  },
  {
   "cell_type": "markdown",
   "metadata": {
    "colab_type": "text",
    "id": "jy8BzXHmoWEw"
   },
   "source": [
    "**2.4.Transforming the data**\n",
    "\n",
    "Remember what Wes McKinney said about tidy data? \n",
    "\n",
    "You might need to **melt** your DataFrame here. "
   ]
  },
  {
   "cell_type": "code",
   "execution_count": 14,
   "metadata": {
    "colab": {},
    "colab_type": "code",
    "id": "S2wM0qLuo2Zt"
   },
   "outputs": [
    {
     "name": "stdout",
     "output_type": "stream",
     "text": [
      "                 Area                 Date  Average Price\n",
      "0      City Of London  1995-01-01 00:00:00        90347.0\n",
      "1  Barking & Dagenham  1995-01-01 00:00:00        51870.0\n",
      "2              Barnet  1995-01-01 00:00:00        98948.0\n",
      "3              Bexley  1995-01-01 00:00:00        64956.0\n",
      "4               Brent  1995-01-01 00:00:00        76880.0\n"
     ]
    }
   ],
   "source": [
    "properties_trans_melt = pd.melt(properties_trans.reset_index(), id_vars=['Area'], var_name='Date', value_name='Average Price')\n",
    "\n",
    "print(properties_trans_melt.head())"
   ]
  },
  {
   "cell_type": "markdown",
   "metadata": {
    "colab_type": "text",
    "id": "7kIsgAo7o3mf"
   },
   "source": [
    "Remember to make sure your column data types are all correct. Average prices, for example, should be floating point numbers... "
   ]
  },
  {
   "cell_type": "code",
   "execution_count": 15,
   "metadata": {
    "colab": {},
    "colab_type": "code",
    "id": "ZcR4IHbcpOaq"
   },
   "outputs": [
    {
     "name": "stdout",
     "output_type": "stream",
     "text": [
      "Area                     object\n",
      "Date             datetime64[ns]\n",
      "Average Price           float64\n",
      "dtype: object\n"
     ]
    }
   ],
   "source": [
    "properties_trans_melt['Date'] = pd.to_datetime(properties_trans_melt['Date'])\n",
    "print(properties_trans_melt.dtypes)"
   ]
  },
  {
   "cell_type": "markdown",
   "metadata": {
    "colab_type": "text",
    "id": "knLUXHLypOtw"
   },
   "source": [
    "**2.5. Cleaning the data (part 3)**\n",
    "\n",
    "Do we have an equal number of observations in the ID, Average Price, Month, and London Borough columns? Remember that there are only 32 London Boroughs. How many entries do you have in that column? \n",
    "\n",
    "Check out the contents of the London Borough column, and if you find null values, get rid of them however you see fit. "
   ]
  },
  {
   "cell_type": "code",
   "execution_count": 16,
   "metadata": {
    "colab": {},
    "colab_type": "code",
    "id": "BnvTW5a3p0fC"
   },
   "outputs": [
    {
     "name": "stdout",
     "output_type": "stream",
     "text": [
      "                     Area       Date  Average Price\n",
      "6661   Barking & Dagenham 2007-05-01       186907.0\n",
      "15616  Barking & Dagenham 2023-12-01       343985.0\n",
      "10891  Barking & Dagenham 2015-03-01       228629.0\n",
      "13591  Barking & Dagenham 2020-03-01       308549.0\n",
      "6076   Barking & Dagenham 2006-04-01       168790.0\n"
     ]
    }
   ],
   "source": [
    "properties_trans_melt.sort_values(by='Area', inplace=True)\n",
    "print(properties_trans_melt.head())\n",
    "\n"
   ]
  },
  {
   "cell_type": "code",
   "execution_count": 17,
   "metadata": {},
   "outputs": [
    {
     "name": "stdout",
     "output_type": "stream",
     "text": [
      "                         Date  Average Price\n",
      "Area                                        \n",
      "Barking & Dagenham 2007-05-01       186907.0\n",
      "Barking & Dagenham 2023-12-01       343985.0\n",
      "Barking & Dagenham 2015-03-01       228629.0\n",
      "Barking & Dagenham 2020-03-01       308549.0\n",
      "Barking & Dagenham 2006-04-01       168790.0\n",
      "                                Date  Average Price\n",
      "count                          16425   1.642500e+04\n",
      "mean   2010-03-02 01:14:57.534246656   3.184493e+05\n",
      "min              1995-01-01 00:00:00   3.852800e+04\n",
      "25%              2002-08-01 00:00:00   1.502050e+05\n",
      "50%              2010-03-01 00:00:00   2.605820e+05\n",
      "75%              2017-10-01 00:00:00   4.376050e+05\n",
      "max              2025-05-01 00:00:00   1.656986e+06\n",
      "std                              NaN   2.277456e+05\n"
     ]
    }
   ],
   "source": [
    "properties_trans_melt.set_index(\"Area\", inplace=True)\n",
    "\n",
    "properties_trans_melt.sort_index(inplace=True)\n",
    "\n",
    "print(properties_trans_melt.head())\n",
    "\n",
    "print(properties_trans_melt.describe())\n"
   ]
  },
  {
   "cell_type": "markdown",
   "metadata": {
    "colab_type": "text",
    "id": "PGEx6mJsp6dG"
   },
   "source": [
    "**2.6. Visualizing the data**\n",
    "\n",
    "To visualize the data, why not subset on a particular London Borough? Maybe do a line plot of Month against Average Price?"
   ]
  },
  {
   "cell_type": "code",
   "execution_count": 18,
   "metadata": {
    "colab": {},
    "colab_type": "code",
    "id": "nAg5pT9cqHAR"
   },
   "outputs": [
    {
     "name": "stdout",
     "output_type": "stream",
     "text": [
      "(365, 2)\n",
      "                         Date  Average Price\n",
      "Area                                        \n",
      "Barking & Dagenham 1995-01-01        51870.0\n",
      "Barking & Dagenham 1995-02-01        52513.0\n",
      "Barking & Dagenham 1995-03-01        52701.0\n",
      "Barking & Dagenham 1995-04-01        54618.0\n",
      "Barking & Dagenham 1995-05-01        54524.0\n"
     ]
    },
    {
     "data": {
      "text/plain": [
       "(array([ 8035.,  9496., 10957., 12418., 13879., 15340., 16801., 18262.,\n",
       "        19723., 21184.]),\n",
       " [Text(8035.0, 0, '1992'),\n",
       "  Text(9496.0, 0, '1996'),\n",
       "  Text(10957.0, 0, '2000'),\n",
       "  Text(12418.0, 0, '2004'),\n",
       "  Text(13879.0, 0, '2008'),\n",
       "  Text(15340.0, 0, '2012'),\n",
       "  Text(16801.0, 0, '2016'),\n",
       "  Text(18262.0, 0, '2020'),\n",
       "  Text(19723.0, 0, '2024'),\n",
       "  Text(21184.0, 0, '2028')])"
      ]
     },
     "execution_count": 18,
     "metadata": {},
     "output_type": "execute_result"
    },
    {
     "data": {
      "image/png": "[encoded data removed]",
      "text/plain": [
       "<Figure size 640x480 with 1 Axes>"
      ]
     },
     "metadata": {},
     "output_type": "display_data"
    }
   ],
   "source": [
    "area_data = properties_trans_melt.loc['Barking & Dagenham']\n",
    "area_data = area_data.sort_values(by='Date')\n",
    "print(area_data.shape)\n",
    "print(area_data.head())\n",
    "\n",
    "plt.plot(area_data[\"Date\"], area_data[\"Average Price\"], marker='o', markersize=1)\n",
    "plt.title(\"Average House Prices in Barking & Dagenham Over Time\")\n",
    "plt.xlabel(\"Date\")\n",
    "plt.ylabel(\"Average Price\")\n",
    "plt.xticks(rotation=45)"
   ]
  },
  {
   "cell_type": "markdown",
   "metadata": {
    "colab_type": "text",
    "id": "aWTPqSJeqHnC"
   },
   "source": [
    "To limit the number of data points you have, you might want to extract the year from every month value your *Month* column. \n",
    "\n",
    "To this end, you *could* apply a ***lambda function***. Your logic could work as follows:\n",
    "1. look through the `Month` column\n",
    "2. extract the year from each individual value in that column \n",
    "3. store that corresponding year as separate column. \n",
    "\n",
    "Whether you go ahead with this is up to you. Just so long as you answer our initial brief: which boroughs of London have seen the greatest house price increase, on average, over the past two decades? "
   ]
  },
  {
   "cell_type": "code",
   "execution_count": 19,
   "metadata": {
    "colab": {},
    "colab_type": "code",
    "id": "e0DF92cyqnu8"
   },
   "outputs": [],
   "source": [
    "properties_trans_melt[\"Year\"] = properties_trans_melt[\"Date\"].dt.year\n",
    "properties_trans_melt = properties_trans_melt.sort_values(by='Year')"
   ]
  },
  {
   "cell_type": "code",
   "execution_count": 20,
   "metadata": {},
   "outputs": [],
   "source": [
    "properties_trans_melt = properties_trans_melt.reset_index()\n"
   ]
  },
  {
   "cell_type": "code",
   "execution_count": 21,
   "metadata": {},
   "outputs": [
    {
     "name": "stdout",
     "output_type": "stream",
     "text": [
      "                 Area       Date  Average Price  Year\n",
      "0             Hackney 1995-04-01        67349.0  1995\n",
      "1             Hackney 1995-09-01        71084.0  1995\n",
      "2            Hounslow 1995-03-01        81889.0  1995\n",
      "3  Barking & Dagenham 1995-07-01        53569.0  1995\n",
      "4             Hackney 1995-01-01        63375.0  1995\n"
     ]
    }
   ],
   "source": [
    "print(properties_trans_melt.head())\n"
   ]
  },
  {
   "cell_type": "code",
   "execution_count": 22,
   "metadata": {},
   "outputs": [],
   "source": [
    "properties_trans_melt_grouped = properties_trans_melt.groupby([\"Area\", \"Year\"])[\"Average Price\"].mean().reset_index()\n"
   ]
  },
  {
   "cell_type": "code",
   "execution_count": 23,
   "metadata": {},
   "outputs": [
    {
     "name": "stdout",
     "output_type": "stream",
     "text": [
      "                 Area  Year  Average Price\n",
      "0  Barking & Dagenham  1995   53265.416667\n",
      "1  Barking & Dagenham  1996   53162.666667\n",
      "2  Barking & Dagenham  1997   57537.583333\n",
      "3  Barking & Dagenham  1998   61969.666667\n",
      "4  Barking & Dagenham  1999   67145.333333\n"
     ]
    }
   ],
   "source": [
    "print(properties_trans_melt_grouped.head(5))"
   ]
  },
  {
   "cell_type": "markdown",
   "metadata": {
    "colab_type": "text",
    "id": "2knuTxAEqoJ4"
   },
   "source": [
    "**3. Modeling**\n",
    "\n",
    "Consider creating a function that will calculate a ratio of house prices, comparing the price of a house in 2018 to the price in 1998.\n",
    "\n",
    "Consider calling this function create_price_ratio.\n",
    "\n",
    "You'd want this function to:\n",
    "1. Take a filter of dfg, specifically where this filter constrains the London_Borough, as an argument. For example, one admissible argument should be: dfg[dfg['London_Borough']=='Camden'].\n",
    "2. Get the Average Price for that Borough, for the years 1998 and 2018.\n",
    "4. Calculate the ratio of the Average Price for 1998 divided by the Average Price for 2018.\n",
    "5. Return that ratio.\n",
    "\n",
    "Once you've written this function, you ultimately want to use it to iterate through all the unique London_Boroughs and work out the ratio capturing the difference of house prices between 1998 and 2018.\n",
    "\n",
    "Bear in mind: you don't have to write a function like this if you don't want to. If you can solve the brief otherwise, then great! \n",
    "\n",
    "***Hint***: This section should test the skills you acquired in:\n",
    "- Python Data Science Toolbox - Part One, all modules"
   ]
  },
  {
   "cell_type": "code",
   "execution_count": 24,
   "metadata": {
    "colab": {},
    "colab_type": "code",
    "id": "cKTyr437UgDa"
   },
   "outputs": [
    {
     "name": "stdout",
     "output_type": "stream",
     "text": [
      "Year                        1995          1996           1997           1998  \\\n",
      "Area                                                                           \n",
      "Barking & Dagenham  53265.416667  53162.666667   57537.583333   61969.666667   \n",
      "Barnet              97365.083333  99707.000000  113371.833333  129787.750000   \n",
      "Bexley              64289.750000  65488.666667   70787.583333   80629.833333   \n",
      "Brent               78737.416667  81116.083333   93529.000000  108562.333333   \n",
      "Bromley             83382.916667  84990.333333   95852.000000  110156.583333   \n",
      "\n",
      "Year                         1999           2000           2001  \\\n",
      "Area                                                              \n",
      "Barking & Dagenham   67145.333333   79715.500000   91140.250000   \n",
      "Barnet              144261.083333  178148.750000  196828.500000   \n",
      "Bexley               86775.333333  103183.666667  116523.916667   \n",
      "Brent               120923.166667  151979.500000  169580.250000   \n",
      "Bromley             122961.666667  150379.583333  164931.833333   \n",
      "\n",
      "Year                         2002           2003           2004  ...  \\\n",
      "Area                                                             ...   \n",
      "Barking & Dagenham  115356.250000  146478.750000  162593.666667  ...   \n",
      "Barnet              234147.083333  266463.583333  288357.916667  ...   \n",
      "Bexley              136794.083333  164477.500000  179136.333333  ...   \n",
      "Brent               200426.916667  233422.416667  254469.833333  ...   \n",
      "Bromley             189869.333333  219723.000000  238511.750000  ...   \n",
      "\n",
      "Year                         2016           2017           2018  \\\n",
      "Area                                                              \n",
      "Barking & Dagenham  281570.166667  295771.000000  303429.500000   \n",
      "Barnet              557868.333333  570959.000000  565586.666667   \n",
      "Bexley              321554.833333  335685.083333  342663.166667   \n",
      "Brent               527723.833333  525820.166667  531462.416667   \n",
      "Bromley             435399.583333  448838.166667  451074.083333   \n",
      "\n",
      "Year                         2019           2020           2021  \\\n",
      "Area                                                              \n",
      "Barking & Dagenham  306536.000000  309238.416667  317677.583333   \n",
      "Barnet              552940.083333  557674.916667  589478.166667   \n",
      "Bexley              336863.083333  343316.916667  369462.000000   \n",
      "Brent               511690.000000  525795.916667  528774.833333   \n",
      "Bromley             443762.166667  442561.000000  474885.833333   \n",
      "\n",
      "Year                         2022           2023           2024      2025  \n",
      "Area                                                                       \n",
      "Barking & Dagenham  342717.000000  346955.333333  342239.833333  367092.8  \n",
      "Barnet              631641.250000  623843.166667  619058.666667  602975.6  \n",
      "Bexley              400681.166667  399864.750000  400915.833333  401959.2  \n",
      "Brent               562752.416667  559168.750000  566210.333333  565213.4  \n",
      "Bromley             511376.333333  507577.833333  498415.750000  522402.0  \n",
      "\n",
      "[5 rows x 31 columns]\n"
     ]
    }
   ],
   "source": [
    "# Pivot the data\n",
    "pivot_properties = properties_trans_melt_grouped.pivot(index=\"Area\", columns=\"Year\", values=\"Average Price\")\n",
    "print(pivot_properties.head())\n"
   ]
  },
  {
   "cell_type": "code",
   "execution_count": 25,
   "metadata": {},
   "outputs": [],
   "source": [
    "# Calculate average price increase for the past 2 decades (2005 to 2025)\n",
    "pivot_properties[\"Price Increase 2005 to 2025\"] = pivot_properties[2025] - pivot_properties[2005]\n",
    "\n",
    "# Calculate the percentage increase from 2005 to 2025 \n",
    "pivot_properties[\"Percent Increase 2005 to 2025\"] = (pivot_properties[2025] - pivot_properties[2005]) / (pivot_properties[2005]) * 100"
   ]
  },
  {
   "cell_type": "code",
   "execution_count": 26,
   "metadata": {},
   "outputs": [],
   "source": [
    "pivot_properties_summary = pivot_properties[[\"Price Increase 2005 to 2025\", \"Percent Increase 2005 to 2025\"]].copy()"
   ]
  },
  {
   "cell_type": "code",
   "execution_count": 27,
   "metadata": {},
   "outputs": [
    {
     "name": "stdout",
     "output_type": "stream",
     "text": [
      "Year                Price Increase 2005 to 2025  Percent Increase 2005 to 2025\n",
      "Area                                                                          \n",
      "Barking & Dagenham                199169.466667                     118.607380\n",
      "Barnet                            306550.350000                     103.415735\n",
      "Bexley                            215452.283333                     115.519728\n",
      "Brent                             304633.983333                     116.906388\n",
      "Bromley                           278474.833333                     114.163107\n"
     ]
    }
   ],
   "source": [
    "print(pivot_properties_summary.head())"
   ]
  },
  {
   "cell_type": "code",
   "execution_count": null,
   "metadata": {},
   "outputs": [],
   "source": []
  },
  {
   "cell_type": "code",
   "execution_count": 28,
   "metadata": {},
   "outputs": [],
   "source": [
    "# Sort by the percentage increase\n",
    "pivot_properties_pct_sorted = pivot_properties_summary.sort_values(by=\"Percent Increase 2005 to 2025\", ascending=False)\n"
   ]
  },
  {
   "cell_type": "code",
   "execution_count": 29,
   "metadata": {},
   "outputs": [
    {
     "name": "stdout",
     "output_type": "stream",
     "text": [
      "Year            Price Increase 2005 to 2025  Percent Increase 2005 to 2025\n",
      "Area                                                                      \n",
      "West Midlands                 424279.700000                     304.521896\n",
      "South East                    455092.033333                     226.995364\n",
      "South West                    337075.416667                     195.153094\n",
      "Hackney                       376358.366667                     159.699335\n",
      "Waltham Forest                321219.266667                     157.723039\n"
     ]
    }
   ],
   "source": [
    "print(pivot_properties_pct_sorted.head())\n"
   ]
  },
  {
   "cell_type": "code",
   "execution_count": 30,
   "metadata": {},
   "outputs": [
    {
     "data": {
      "image/png": "[encoded data removed]",
      "text/plain": [
       "<Figure size 1000x600 with 1 Axes>"
      ]
     },
     "metadata": {},
     "output_type": "display_data"
    }
   ],
   "source": [
    "ax = pivot_properties_pct_sorted[\"Percent Increase 2005 to 2025\"].head(10).plot(\n",
    "    kind=\"barh\",\n",
    "    figsize=(10, 6)\n",
    ")\n",
    "ax.invert_yaxis()\n",
    "plt.title(\"Top 10 London Areas by Percent Increase In Average Housing Price(2005–2025)\")\n",
    "plt.xlabel(\"Percent Increase\")\n",
    "plt.ylabel(\"Area\")\n",
    "plt.tight_layout()\n"
   ]
  },
  {
   "cell_type": "code",
   "execution_count": 31,
   "metadata": {},
   "outputs": [
    {
     "name": "stdout",
     "output_type": "stream",
     "text": [
      "Year                  Price Increase 2005 to 2025  \\\n",
      "Area                                                \n",
      "Kensington & Chelsea                789633.566667   \n",
      "Westminster                         559760.033333   \n",
      "Camden                              474087.100000   \n",
      "City Of London                      463410.683333   \n",
      "Richmond Upon Thames                460376.866667   \n",
      "\n",
      "Year                  Percent Increase 2005 to 2025  \n",
      "Area                                                 \n",
      "Kensington & Chelsea                     140.289308  \n",
      "Westminster                              131.838479  \n",
      "Camden                                   129.951496  \n",
      "City Of London                           150.444378  \n",
      "Richmond Upon Thames                     134.105192  \n"
     ]
    },
    {
     "data": {
      "image/png": "[encoded data removed]",
      "text/plain": [
       "<Figure size 1000x600 with 1 Axes>"
      ]
     },
     "metadata": {},
     "output_type": "display_data"
    }
   ],
   "source": [
    "pivot_properties_price_sorted = pivot_properties_summary.sort_values(by=\"Price Increase 2005 to 2025\", ascending=False)\n",
    "\n",
    "print(pivot_properties_price_sorted.head())\n",
    "\n",
    "ax = pivot_properties_price_sorted[\"Price Increase 2005 to 2025\"].head(10).plot(\n",
    "    kind=\"barh\",\n",
    "    figsize=(10, 6)\n",
    ")\n",
    "ax.invert_yaxis()\n",
    "plt.title(\"Top 10 London Areas by Increase in Average Housing Price (2005–2025)\")\n",
    "plt.xlabel(\"Price Increase\")\n",
    "plt.ylabel(\"Area\")\n",
    "plt.tight_layout()"
   ]
  },
  {
   "cell_type": "markdown",
   "metadata": {
    "colab_type": "text",
    "id": "NzYUI7FxJpgv"
   },
   "source": [
    "### 4. Conclusion\n",
    "What can you conclude? Type out your conclusion below. \n",
    "\n",
    "Look back at your notebook. Think about how you might summarize what you have done, and prepare a quick presentation on it to your mentor at your next meeting. \n",
    "\n",
    "We hope you enjoyed this practical project. It should have consolidated your data hygiene and pandas skills by looking at a real-world problem involving just the kind of dataset you might encounter as a budding data scientist. Congratulations, and looking forward to seeing you at the next step in the course! \n",
    "_________________________________________________________________________________\n",
    "\n",
    "#### Results:\n",
    "Over the past two decades (2005 - 2025), West Midlands had the highest percentage increase in housing prices (305%), whereas Kensington & Chelsea saw the greatest absolute increase of £789,634.\n",
    "\n",
    "#### Methods:\n",
    "1. Imported and cleaned the dataset by removing rows with alphanumeric codes, dropping columns with null values, renaming columns, setting the Date column as the index, and converting dates to datetime format and prices to float.\n",
    "\n",
    "2. Defined a reusable function to generate summary statistics for use throughout the cleaning process.\n",
    "\n",
    "3. Transposed and melted the data to prepare it for visualization.\n",
    "\n",
    "4. Plotted average price by date to illustrate overall housing price trends.\n",
    "\n",
    "5. Pivoted the data to calculate absolute and percent price increases from 2005 to 2025 for each London area.\n",
    "\n",
    "6. Visualized the top 10 London areas by absolute and percent price increase using bar plots.\n"
   ]
  }
 ],
 "metadata": {
  "colab": {
   "collapsed_sections": [],
   "name": "Springboard Data Science Career Track Unit 4 Challenge - Tier 3 Complete .ipynb",
   "provenance": []
  },
  "kernelspec": {
   "display_name": ".venv (3.11.9)",
   "language": "python",
   "name": "python3"
  },
  "language_info": {
   "codemirror_mode": {
    "name": "ipython",
    "version": 3
   },
   "file_extension": ".py",
   "mimetype": "text/x-python",
   "name": "python",
   "nbconvert_exporter": "python",
   "pygments_lexer": "ipython3",
   "version": "3.11.9"
  }
 },
 "nbformat": 4,
 "nbformat_minor": 0
}
